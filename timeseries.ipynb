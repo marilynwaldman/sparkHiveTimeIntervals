{
 "cells": [
  {
   "cell_type": "code",
   "execution_count": 1,
   "metadata": {},
   "outputs": [
    {
     "data": {
      "text/plain": [
       "['.ipynb_checkpoints',\n",
       " 'derby.log',\n",
       " 'timeseries.ipynb',\n",
       " 'spark-warehouse',\n",
       " 'metastore_db']"
      ]
     },
     "execution_count": 1,
     "metadata": {},
     "output_type": "execute_result"
    }
   ],
   "source": [
    "import os\n",
    "os.listdir(os.getcwd())"
   ]
  },
  {
   "cell_type": "code",
   "execution_count": 2,
   "metadata": {},
   "outputs": [],
   "source": [
    "from pyspark.sql import *\n",
    "from pyspark.sql.types import *\n",
    "import pyspark.sql.functions as f\n"
   ]
  },
  {
   "cell_type": "code",
   "execution_count": 3,
   "metadata": {},
   "outputs": [],
   "source": [
    "sparkSession = (SparkSession\n",
    "                .builder\n",
    "                .appName('example')\n",
    "                .master('local')\n",
    "                .enableHiveSupport()\n",
    "                .getOrCreate())"
   ]
  },
  {
   "cell_type": "code",
   "execution_count": 4,
   "metadata": {},
   "outputs": [
    {
     "data": {
      "text/html": [
       "<div>\n",
       "<table border=\"1\" class=\"dataframe\">\n",
       "  <thead>\n",
       "    <tr style=\"text-align: right;\">\n",
       "      <th></th>\n",
       "      <th>databaseName</th>\n",
       "    </tr>\n",
       "  </thead>\n",
       "  <tbody>\n",
       "    <tr>\n",
       "      <th>0</th>\n",
       "      <td>default</td>\n",
       "    </tr>\n",
       "    <tr>\n",
       "      <th>1</th>\n",
       "      <td>logs</td>\n",
       "    </tr>\n",
       "  </tbody>\n",
       "</table>\n",
       "</div>"
      ],
      "text/plain": [
       "  databaseName\n",
       "0      default\n",
       "1         logs"
      ]
     },
     "execution_count": 4,
     "metadata": {},
     "output_type": "execute_result"
    }
   ],
   "source": [
    "#Check if hive databases are available\n",
    "sparkSession.sql(\"\"\"\n",
    "     show databases\n",
    "\"\"\").toPandas()"
   ]
  },
  {
   "cell_type": "code",
   "execution_count": 5,
   "metadata": {},
   "outputs": [
    {
     "data": {
      "text/plain": [
       "[Database(name='default', description='Default Hive database', locationUri='file:/home/jovyan/hivetimeseries/spark-warehouse'),\n",
       " Database(name='logs', description='', locationUri='file:/home/jovyan/hivetimeseries/spark-warehouse/logs.db')]"
      ]
     },
     "execution_count": 5,
     "metadata": {},
     "output_type": "execute_result"
    }
   ],
   "source": [
    "sparkSession.catalog.listDatabases()"
   ]
  },
  {
   "cell_type": "code",
   "execution_count": 6,
   "metadata": {},
   "outputs": [
    {
     "data": {
      "text/html": [
       "<div>\n",
       "<table border=\"1\" class=\"dataframe\">\n",
       "  <thead>\n",
       "    <tr style=\"text-align: right;\">\n",
       "      <th></th>\n",
       "      <th>database</th>\n",
       "      <th>tableName</th>\n",
       "      <th>isTemporary</th>\n",
       "    </tr>\n",
       "  </thead>\n",
       "  <tbody>\n",
       "  </tbody>\n",
       "</table>\n",
       "</div>"
      ],
      "text/plain": [
       "Empty DataFrame\n",
       "Columns: [database, tableName, isTemporary]\n",
       "Index: []"
      ]
     },
     "execution_count": 6,
     "metadata": {},
     "output_type": "execute_result"
    }
   ],
   "source": [
    "#Check tables in a database\n",
    "sparkSession.sql(\"\"\"\n",
    "     show tables in default\n",
    "\"\"\").toPandas()"
   ]
  },
  {
   "cell_type": "code",
   "execution_count": 7,
   "metadata": {},
   "outputs": [
    {
     "data": {
      "text/plain": [
       "[]"
      ]
     },
     "execution_count": 7,
     "metadata": {},
     "output_type": "execute_result"
    }
   ],
   "source": [
    "sparkSession.catalog.listTables(\"default\")\n"
   ]
  },
  {
   "cell_type": "code",
   "execution_count": 8,
   "metadata": {},
   "outputs": [
    {
     "data": {
      "text/plain": [
       "DataFrame[]"
      ]
     },
     "execution_count": 8,
     "metadata": {},
     "output_type": "execute_result"
    }
   ],
   "source": [
    "sparkSession.sql('create database IF NOT EXISTS logs')"
   ]
  },
  {
   "cell_type": "code",
   "execution_count": 9,
   "metadata": {},
   "outputs": [
    {
     "data": {
      "text/plain": [
       "[Database(name='default', description='Default Hive database', locationUri='file:/home/jovyan/hivetimeseries/spark-warehouse'),\n",
       " Database(name='logs', description='', locationUri='file:/home/jovyan/hivetimeseries/spark-warehouse/logs.db')]"
      ]
     },
     "execution_count": 9,
     "metadata": {},
     "output_type": "execute_result"
    }
   ],
   "source": [
    "sparkSession.catalog.listDatabases()"
   ]
  },
  {
   "cell_type": "code",
   "execution_count": 10,
   "metadata": {},
   "outputs": [],
   "source": [
    "# Define schema\n",
    "schema = StructType([\n",
    "    StructField(\"ip\", StringType(), True),\n",
    "    StructField(\"clientID\", StringType(), True),\n",
    "    StructField(\"userID\", StringType(), True),\n",
    "    StructField(\"time\", StringType(), True),\n",
    "    StructField(\"method\", StringType(), True),\n",
    "    StructField(\"endpoint\", StringType(), True),\n",
    "    StructField(\"protocol\", StringType(), True),\n",
    "    StructField(\"response\", IntegerType(), True),\n",
    "    StructField(\"size\", IntegerType(), True)\n",
    "])"
   ]
  },
  {
   "cell_type": "code",
   "execution_count": 11,
   "metadata": {},
   "outputs": [
    {
     "data": {
      "text/plain": [
       "pyspark.sql.dataframe.DataFrame"
      ]
     },
     "execution_count": 11,
     "metadata": {},
     "output_type": "execute_result"
    }
   ],
   "source": [
    "geoip_from_csv_df = sparkSession\\\n",
    " .read.csv(\"../data/access_logs.csv\", schema)\n",
    "type(geoip_from_csv_df)    "
   ]
  },
  {
   "cell_type": "code",
   "execution_count": 12,
   "metadata": {},
   "outputs": [],
   "source": [
    "sparkSession.sql('use logs')\n",
    "geoip_from_csv_df.write.mode('overwrite').saveAsTable(\"weblogs\")"
   ]
  },
  {
   "cell_type": "code",
   "execution_count": 13,
   "metadata": {},
   "outputs": [
    {
     "data": {
      "text/plain": [
       "[Table(name='weblogs', database='logs', description=None, tableType='MANAGED', isTemporary=False)]"
      ]
     },
     "execution_count": 13,
     "metadata": {},
     "output_type": "execute_result"
    }
   ],
   "source": [
    "sparkSession.catalog.listTables(\"logs\")"
   ]
  },
  {
   "cell_type": "code",
   "execution_count": 14,
   "metadata": {},
   "outputs": [
    {
     "data": {
      "text/html": [
       "<div>\n",
       "<table border=\"1\" class=\"dataframe\">\n",
       "  <thead>\n",
       "    <tr style=\"text-align: right;\">\n",
       "      <th></th>\n",
       "      <th>ip</th>\n",
       "      <th>clientID</th>\n",
       "      <th>userID</th>\n",
       "      <th>time</th>\n",
       "      <th>method</th>\n",
       "      <th>endpoint</th>\n",
       "      <th>protocol</th>\n",
       "      <th>response</th>\n",
       "      <th>size</th>\n",
       "    </tr>\n",
       "  </thead>\n",
       "  <tbody>\n",
       "    <tr>\n",
       "      <th>0</th>\n",
       "      <td>64.242.88.10</td>\n",
       "      <td>-</td>\n",
       "      <td>-</td>\n",
       "      <td>07/Mar/2004:16:05:49 -0800</td>\n",
       "      <td>GET</td>\n",
       "      <td>/twiki/bin/edit/Main/Double_bounce_sender?topi...</td>\n",
       "      <td>HTTP/1.1</td>\n",
       "      <td>401</td>\n",
       "      <td>12846</td>\n",
       "    </tr>\n",
       "    <tr>\n",
       "      <th>1</th>\n",
       "      <td>64.240.88.10</td>\n",
       "      <td>-</td>\n",
       "      <td>-</td>\n",
       "      <td>07/Mar/2004:15:05:49 -0800</td>\n",
       "      <td>GET</td>\n",
       "      <td>/twiki/bin/edit/Main/Double_bounce_sender?topi...</td>\n",
       "      <td>HTTP/1.1</td>\n",
       "      <td>401</td>\n",
       "      <td>12846</td>\n",
       "    </tr>\n",
       "    <tr>\n",
       "      <th>2</th>\n",
       "      <td>68.240.88.10</td>\n",
       "      <td>-</td>\n",
       "      <td>-</td>\n",
       "      <td>07/Mar/2004:16:05:49 -0800</td>\n",
       "      <td>GET</td>\n",
       "      <td>/twiki/bin/edit/Main/Double_bounce_sender?topi...</td>\n",
       "      <td>HTTP/1.1</td>\n",
       "      <td>401</td>\n",
       "      <td>12846</td>\n",
       "    </tr>\n",
       "  </tbody>\n",
       "</table>\n",
       "</div>"
      ],
      "text/plain": [
       "             ip clientID userID                        time method  \\\n",
       "0  64.242.88.10        -      -  07/Mar/2004:16:05:49 -0800    GET   \n",
       "1  64.240.88.10        -      -  07/Mar/2004:15:05:49 -0800    GET   \n",
       "2  68.240.88.10        -      -  07/Mar/2004:16:05:49 -0800    GET   \n",
       "\n",
       "                                            endpoint  protocol  response  \\\n",
       "0  /twiki/bin/edit/Main/Double_bounce_sender?topi...  HTTP/1.1       401   \n",
       "1  /twiki/bin/edit/Main/Double_bounce_sender?topi...  HTTP/1.1       401   \n",
       "2  /twiki/bin/edit/Main/Double_bounce_sender?topi...  HTTP/1.1       401   \n",
       "\n",
       "    size  \n",
       "0  12846  \n",
       "1  12846  \n",
       "2  12846  "
      ]
     },
     "execution_count": 14,
     "metadata": {},
     "output_type": "execute_result"
    }
   ],
   "source": [
    "#query against the hive table\n",
    "sparkSession.sql(\"\"\"\n",
    "select *\n",
    "from weblogs\n",
    "where response<>'200'\n",
    "\"\"\").limit(30).toPandas()"
   ]
  },
  {
   "cell_type": "code",
   "execution_count": 15,
   "metadata": {},
   "outputs": [
    {
     "data": {
      "text/html": [
       "<div>\n",
       "<table border=\"1\" class=\"dataframe\">\n",
       "  <thead>\n",
       "    <tr style=\"text-align: right;\">\n",
       "      <th></th>\n",
       "      <th>ip</th>\n",
       "      <th>endpoint</th>\n",
       "    </tr>\n",
       "  </thead>\n",
       "  <tbody>\n",
       "    <tr>\n",
       "      <th>0</th>\n",
       "      <td>64.242.88.10</td>\n",
       "      <td>/twiki/bin/edit/Main/Double_bounce_sender?topi...</td>\n",
       "    </tr>\n",
       "    <tr>\n",
       "      <th>1</th>\n",
       "      <td>64.242.88.10</td>\n",
       "      <td>/twiki/bin/rdiff/TWiki/NewUserTemplate?rev1=1....</td>\n",
       "    </tr>\n",
       "    <tr>\n",
       "      <th>2</th>\n",
       "      <td>64.242.88.10</td>\n",
       "      <td>/mailman/listinfo/hsdivision</td>\n",
       "    </tr>\n",
       "    <tr>\n",
       "      <th>3</th>\n",
       "      <td>64.242.88.10</td>\n",
       "      <td>/twiki/bin/view/TWiki/WikiSyntax</td>\n",
       "    </tr>\n",
       "    <tr>\n",
       "      <th>4</th>\n",
       "      <td>64.240.88.10</td>\n",
       "      <td>/twiki/bin/edit/Main/Double_bounce_sender?topi...</td>\n",
       "    </tr>\n",
       "    <tr>\n",
       "      <th>5</th>\n",
       "      <td>64.240.88.10</td>\n",
       "      <td>/twiki/bin/rdiff/TWiki/NewUserTemplate?rev1=1....</td>\n",
       "    </tr>\n",
       "    <tr>\n",
       "      <th>6</th>\n",
       "      <td>64.240.88.10</td>\n",
       "      <td>/mailman/listinfo/hsdivision</td>\n",
       "    </tr>\n",
       "    <tr>\n",
       "      <th>7</th>\n",
       "      <td>64.240.88.10</td>\n",
       "      <td>/twiki/bin/view/TWiki/WikiSyntax</td>\n",
       "    </tr>\n",
       "    <tr>\n",
       "      <th>8</th>\n",
       "      <td>68.240.88.10</td>\n",
       "      <td>/twiki/bin/edit/Main/Double_bounce_sender?topi...</td>\n",
       "    </tr>\n",
       "    <tr>\n",
       "      <th>9</th>\n",
       "      <td>68.240.88.10</td>\n",
       "      <td>/twiki/bin/rdiff/TWiki/NewUserTemplate?rev1=1....</td>\n",
       "    </tr>\n",
       "    <tr>\n",
       "      <th>10</th>\n",
       "      <td>68.240.88.10</td>\n",
       "      <td>/mailman/listinfo/hsdivision</td>\n",
       "    </tr>\n",
       "    <tr>\n",
       "      <th>11</th>\n",
       "      <td>68.240.88.10</td>\n",
       "      <td>/twiki/bin/view/TWiki/WikiSyntax</td>\n",
       "    </tr>\n",
       "  </tbody>\n",
       "</table>\n",
       "</div>"
      ],
      "text/plain": [
       "              ip                                           endpoint\n",
       "0   64.242.88.10  /twiki/bin/edit/Main/Double_bounce_sender?topi...\n",
       "1   64.242.88.10  /twiki/bin/rdiff/TWiki/NewUserTemplate?rev1=1....\n",
       "2   64.242.88.10                       /mailman/listinfo/hsdivision\n",
       "3   64.242.88.10                   /twiki/bin/view/TWiki/WikiSyntax\n",
       "4   64.240.88.10  /twiki/bin/edit/Main/Double_bounce_sender?topi...\n",
       "5   64.240.88.10  /twiki/bin/rdiff/TWiki/NewUserTemplate?rev1=1....\n",
       "6   64.240.88.10                       /mailman/listinfo/hsdivision\n",
       "7   64.240.88.10                   /twiki/bin/view/TWiki/WikiSyntax\n",
       "8   68.240.88.10  /twiki/bin/edit/Main/Double_bounce_sender?topi...\n",
       "9   68.240.88.10  /twiki/bin/rdiff/TWiki/NewUserTemplate?rev1=1....\n",
       "10  68.240.88.10                       /mailman/listinfo/hsdivision\n",
       "11  68.240.88.10                   /twiki/bin/view/TWiki/WikiSyntax"
      ]
     },
     "execution_count": 15,
     "metadata": {},
     "output_type": "execute_result"
    }
   ],
   "source": [
    "#query against the dataframe\n",
    "geoip_from_csv_df.select(geoip_from_csv_df.ip,\n",
    " geoip_from_csv_df.endpoint)\\\n",
    " .limit(30).toPandas()"
   ]
  },
  {
   "cell_type": "code",
   "execution_count": 16,
   "metadata": {},
   "outputs": [
    {
     "data": {
      "text/html": [
       "<div>\n",
       "<table border=\"1\" class=\"dataframe\">\n",
       "  <thead>\n",
       "    <tr style=\"text-align: right;\">\n",
       "      <th></th>\n",
       "      <th>ip</th>\n",
       "      <th>clientID</th>\n",
       "      <th>userID</th>\n",
       "      <th>time</th>\n",
       "      <th>method</th>\n",
       "      <th>endpoint</th>\n",
       "      <th>protocol</th>\n",
       "      <th>response</th>\n",
       "      <th>size</th>\n",
       "    </tr>\n",
       "  </thead>\n",
       "  <tbody>\n",
       "    <tr>\n",
       "      <th>0</th>\n",
       "      <td>64.242.88.10</td>\n",
       "      <td>-</td>\n",
       "      <td>-</td>\n",
       "      <td>07/Mar/2004:16:05:49 -0800</td>\n",
       "      <td>GET</td>\n",
       "      <td>/twiki/bin/edit/Main/Double_bounce_sender?topi...</td>\n",
       "      <td>HTTP/1.1</td>\n",
       "      <td>401</td>\n",
       "      <td>12846</td>\n",
       "    </tr>\n",
       "    <tr>\n",
       "      <th>1</th>\n",
       "      <td>64.242.88.10</td>\n",
       "      <td>-</td>\n",
       "      <td>-</td>\n",
       "      <td>07/Mar/2004:16:06:51 -0800</td>\n",
       "      <td>GET</td>\n",
       "      <td>/twiki/bin/rdiff/TWiki/NewUserTemplate?rev1=1....</td>\n",
       "      <td>HTTP/1.1</td>\n",
       "      <td>200</td>\n",
       "      <td>4523</td>\n",
       "    </tr>\n",
       "    <tr>\n",
       "      <th>2</th>\n",
       "      <td>64.242.88.10</td>\n",
       "      <td>-</td>\n",
       "      <td>-</td>\n",
       "      <td>07/Mar/2004:16:10:02 -0800</td>\n",
       "      <td>GET</td>\n",
       "      <td>/mailman/listinfo/hsdivision</td>\n",
       "      <td>HTTP/1.1</td>\n",
       "      <td>200</td>\n",
       "      <td>6291</td>\n",
       "    </tr>\n",
       "    <tr>\n",
       "      <th>3</th>\n",
       "      <td>64.242.88.10</td>\n",
       "      <td>-</td>\n",
       "      <td>-</td>\n",
       "      <td>07/Mar/2004:16:11:58 -0800</td>\n",
       "      <td>GET</td>\n",
       "      <td>/twiki/bin/view/TWiki/WikiSyntax</td>\n",
       "      <td>HTTP/1.1</td>\n",
       "      <td>200</td>\n",
       "      <td>7352</td>\n",
       "    </tr>\n",
       "    <tr>\n",
       "      <th>4</th>\n",
       "      <td>64.240.88.10</td>\n",
       "      <td>-</td>\n",
       "      <td>-</td>\n",
       "      <td>07/Mar/2004:15:05:49 -0800</td>\n",
       "      <td>GET</td>\n",
       "      <td>/twiki/bin/edit/Main/Double_bounce_sender?topi...</td>\n",
       "      <td>HTTP/1.1</td>\n",
       "      <td>401</td>\n",
       "      <td>12846</td>\n",
       "    </tr>\n",
       "  </tbody>\n",
       "</table>\n",
       "</div>"
      ],
      "text/plain": [
       "             ip clientID userID                        time method  \\\n",
       "0  64.242.88.10        -      -  07/Mar/2004:16:05:49 -0800    GET   \n",
       "1  64.242.88.10        -      -  07/Mar/2004:16:06:51 -0800    GET   \n",
       "2  64.242.88.10        -      -  07/Mar/2004:16:10:02 -0800    GET   \n",
       "3  64.242.88.10        -      -  07/Mar/2004:16:11:58 -0800    GET   \n",
       "4  64.240.88.10        -      -  07/Mar/2004:15:05:49 -0800    GET   \n",
       "\n",
       "                                            endpoint  protocol  response  \\\n",
       "0  /twiki/bin/edit/Main/Double_bounce_sender?topi...  HTTP/1.1       401   \n",
       "1  /twiki/bin/rdiff/TWiki/NewUserTemplate?rev1=1....  HTTP/1.1       200   \n",
       "2                       /mailman/listinfo/hsdivision  HTTP/1.1       200   \n",
       "3                   /twiki/bin/view/TWiki/WikiSyntax  HTTP/1.1       200   \n",
       "4  /twiki/bin/edit/Main/Double_bounce_sender?topi...  HTTP/1.1       401   \n",
       "\n",
       "    size  \n",
       "0  12846  \n",
       "1   4523  \n",
       "2   6291  \n",
       "3   7352  \n",
       "4  12846  "
      ]
     },
     "execution_count": 16,
     "metadata": {},
     "output_type": "execute_result"
    }
   ],
   "source": [
    "weblogs_df = sparkSession.read.table(\"weblogs\")\n",
    "weblogs_df.limit(5).toPandas()"
   ]
  },
  {
   "cell_type": "code",
   "execution_count": 17,
   "metadata": {},
   "outputs": [
    {
     "data": {
      "text/plain": [
       "pyspark.sql.dataframe.DataFrame"
      ]
     },
     "execution_count": 17,
     "metadata": {},
     "output_type": "execute_result"
    }
   ],
   "source": [
    "type(weblogs_df)"
   ]
  },
  {
   "cell_type": "code",
   "execution_count": 18,
   "metadata": {},
   "outputs": [
    {
     "data": {
      "text/html": [
       "<div>\n",
       "<table border=\"1\" class=\"dataframe\">\n",
       "  <thead>\n",
       "    <tr style=\"text-align: right;\">\n",
       "      <th></th>\n",
       "      <th>unix_timestamp</th>\n",
       "    </tr>\n",
       "  </thead>\n",
       "  <tbody>\n",
       "    <tr>\n",
       "      <th>0</th>\n",
       "      <td>1524452023</td>\n",
       "    </tr>\n",
       "  </tbody>\n",
       "</table>\n",
       "</div>"
      ],
      "text/plain": [
       "   unix_timestamp\n",
       "0      1524452023"
      ]
     },
     "execution_count": 18,
     "metadata": {},
     "output_type": "execute_result"
    }
   ],
   "source": [
    "sparkSession.sql(\"\"\"\n",
    "   select unix_timestamp() as unix_timestamp\n",
    "\"\"\").toPandas()\n"
   ]
  },
  {
   "cell_type": "code",
   "execution_count": 19,
   "metadata": {},
   "outputs": [
    {
     "data": {
      "text/html": [
       "<div>\n",
       "<table border=\"1\" class=\"dataframe\">\n",
       "  <thead>\n",
       "    <tr style=\"text-align: right;\">\n",
       "      <th></th>\n",
       "      <th>ip</th>\n",
       "      <th>clientID</th>\n",
       "      <th>userID</th>\n",
       "      <th>time</th>\n",
       "      <th>method</th>\n",
       "      <th>endpoint</th>\n",
       "      <th>protocol</th>\n",
       "      <th>response</th>\n",
       "      <th>size</th>\n",
       "      <th>unixtime</th>\n",
       "    </tr>\n",
       "  </thead>\n",
       "  <tbody>\n",
       "    <tr>\n",
       "      <th>0</th>\n",
       "      <td>64.242.88.10</td>\n",
       "      <td>-</td>\n",
       "      <td>-</td>\n",
       "      <td>07/Mar/2004:16:05:49 -0800</td>\n",
       "      <td>GET</td>\n",
       "      <td>/twiki/bin/edit/Main/Double_bounce_sender?topi...</td>\n",
       "      <td>HTTP/1.1</td>\n",
       "      <td>401</td>\n",
       "      <td>12846</td>\n",
       "      <td>1078704349</td>\n",
       "    </tr>\n",
       "    <tr>\n",
       "      <th>1</th>\n",
       "      <td>64.242.88.10</td>\n",
       "      <td>-</td>\n",
       "      <td>-</td>\n",
       "      <td>07/Mar/2004:16:06:51 -0800</td>\n",
       "      <td>GET</td>\n",
       "      <td>/twiki/bin/rdiff/TWiki/NewUserTemplate?rev1=1....</td>\n",
       "      <td>HTTP/1.1</td>\n",
       "      <td>200</td>\n",
       "      <td>4523</td>\n",
       "      <td>1078704411</td>\n",
       "    </tr>\n",
       "    <tr>\n",
       "      <th>2</th>\n",
       "      <td>64.242.88.10</td>\n",
       "      <td>-</td>\n",
       "      <td>-</td>\n",
       "      <td>07/Mar/2004:16:10:02 -0800</td>\n",
       "      <td>GET</td>\n",
       "      <td>/mailman/listinfo/hsdivision</td>\n",
       "      <td>HTTP/1.1</td>\n",
       "      <td>200</td>\n",
       "      <td>6291</td>\n",
       "      <td>1078704602</td>\n",
       "    </tr>\n",
       "    <tr>\n",
       "      <th>3</th>\n",
       "      <td>64.242.88.10</td>\n",
       "      <td>-</td>\n",
       "      <td>-</td>\n",
       "      <td>07/Mar/2004:16:11:58 -0800</td>\n",
       "      <td>GET</td>\n",
       "      <td>/twiki/bin/view/TWiki/WikiSyntax</td>\n",
       "      <td>HTTP/1.1</td>\n",
       "      <td>200</td>\n",
       "      <td>7352</td>\n",
       "      <td>1078704718</td>\n",
       "    </tr>\n",
       "    <tr>\n",
       "      <th>4</th>\n",
       "      <td>64.240.88.10</td>\n",
       "      <td>-</td>\n",
       "      <td>-</td>\n",
       "      <td>07/Mar/2004:15:05:49 -0800</td>\n",
       "      <td>GET</td>\n",
       "      <td>/twiki/bin/edit/Main/Double_bounce_sender?topi...</td>\n",
       "      <td>HTTP/1.1</td>\n",
       "      <td>401</td>\n",
       "      <td>12846</td>\n",
       "      <td>1078700749</td>\n",
       "    </tr>\n",
       "    <tr>\n",
       "      <th>5</th>\n",
       "      <td>64.240.88.10</td>\n",
       "      <td>-</td>\n",
       "      <td>-</td>\n",
       "      <td>07/Mar/2004:15:06:51 -0800</td>\n",
       "      <td>GET</td>\n",
       "      <td>/twiki/bin/rdiff/TWiki/NewUserTemplate?rev1=1....</td>\n",
       "      <td>HTTP/1.1</td>\n",
       "      <td>200</td>\n",
       "      <td>4523</td>\n",
       "      <td>1078700811</td>\n",
       "    </tr>\n",
       "    <tr>\n",
       "      <th>6</th>\n",
       "      <td>64.240.88.10</td>\n",
       "      <td>-</td>\n",
       "      <td>-</td>\n",
       "      <td>07/Mar/2004:15:20:42 -0800</td>\n",
       "      <td>GET</td>\n",
       "      <td>/mailman/listinfo/hsdivision</td>\n",
       "      <td>HTTP/1.1</td>\n",
       "      <td>200</td>\n",
       "      <td>6291</td>\n",
       "      <td>1078701642</td>\n",
       "    </tr>\n",
       "    <tr>\n",
       "      <th>7</th>\n",
       "      <td>64.240.88.10</td>\n",
       "      <td>-</td>\n",
       "      <td>-</td>\n",
       "      <td>07/Mar/2004:15:31:58 -0800</td>\n",
       "      <td>GET</td>\n",
       "      <td>/twiki/bin/view/TWiki/WikiSyntax</td>\n",
       "      <td>HTTP/1.1</td>\n",
       "      <td>200</td>\n",
       "      <td>7352</td>\n",
       "      <td>1078702318</td>\n",
       "    </tr>\n",
       "    <tr>\n",
       "      <th>8</th>\n",
       "      <td>68.240.88.10</td>\n",
       "      <td>-</td>\n",
       "      <td>-</td>\n",
       "      <td>07/Mar/2004:16:05:49 -0800</td>\n",
       "      <td>GET</td>\n",
       "      <td>/twiki/bin/edit/Main/Double_bounce_sender?topi...</td>\n",
       "      <td>HTTP/1.1</td>\n",
       "      <td>401</td>\n",
       "      <td>12846</td>\n",
       "      <td>1078704349</td>\n",
       "    </tr>\n",
       "    <tr>\n",
       "      <th>9</th>\n",
       "      <td>68.240.88.10</td>\n",
       "      <td>-</td>\n",
       "      <td>-</td>\n",
       "      <td>07/Mar/2004:17:01:56 -0800</td>\n",
       "      <td>GET</td>\n",
       "      <td>/twiki/bin/rdiff/TWiki/NewUserTemplate?rev1=1....</td>\n",
       "      <td>HTTP/1.1</td>\n",
       "      <td>200</td>\n",
       "      <td>4523</td>\n",
       "      <td>1078707716</td>\n",
       "    </tr>\n",
       "    <tr>\n",
       "      <th>10</th>\n",
       "      <td>68.240.88.10</td>\n",
       "      <td>-</td>\n",
       "      <td>-</td>\n",
       "      <td>07/Mar/2004:18:10:02 -0800</td>\n",
       "      <td>GET</td>\n",
       "      <td>/mailman/listinfo/hsdivision</td>\n",
       "      <td>HTTP/1.1</td>\n",
       "      <td>200</td>\n",
       "      <td>6291</td>\n",
       "      <td>1078711802</td>\n",
       "    </tr>\n",
       "    <tr>\n",
       "      <th>11</th>\n",
       "      <td>68.240.88.10</td>\n",
       "      <td>-</td>\n",
       "      <td>-</td>\n",
       "      <td>07/Mar/2004:19:12:58 -0800</td>\n",
       "      <td>GET</td>\n",
       "      <td>/twiki/bin/view/TWiki/WikiSyntax</td>\n",
       "      <td>HTTP/1.1</td>\n",
       "      <td>200</td>\n",
       "      <td>7352</td>\n",
       "      <td>1078715578</td>\n",
       "    </tr>\n",
       "  </tbody>\n",
       "</table>\n",
       "</div>"
      ],
      "text/plain": [
       "              ip clientID userID                        time method  \\\n",
       "0   64.242.88.10        -      -  07/Mar/2004:16:05:49 -0800    GET   \n",
       "1   64.242.88.10        -      -  07/Mar/2004:16:06:51 -0800    GET   \n",
       "2   64.242.88.10        -      -  07/Mar/2004:16:10:02 -0800    GET   \n",
       "3   64.242.88.10        -      -  07/Mar/2004:16:11:58 -0800    GET   \n",
       "4   64.240.88.10        -      -  07/Mar/2004:15:05:49 -0800    GET   \n",
       "5   64.240.88.10        -      -  07/Mar/2004:15:06:51 -0800    GET   \n",
       "6   64.240.88.10        -      -  07/Mar/2004:15:20:42 -0800    GET   \n",
       "7   64.240.88.10        -      -  07/Mar/2004:15:31:58 -0800    GET   \n",
       "8   68.240.88.10        -      -  07/Mar/2004:16:05:49 -0800    GET   \n",
       "9   68.240.88.10        -      -  07/Mar/2004:17:01:56 -0800    GET   \n",
       "10  68.240.88.10        -      -  07/Mar/2004:18:10:02 -0800    GET   \n",
       "11  68.240.88.10        -      -  07/Mar/2004:19:12:58 -0800    GET   \n",
       "\n",
       "                                             endpoint  protocol  response  \\\n",
       "0   /twiki/bin/edit/Main/Double_bounce_sender?topi...  HTTP/1.1       401   \n",
       "1   /twiki/bin/rdiff/TWiki/NewUserTemplate?rev1=1....  HTTP/1.1       200   \n",
       "2                        /mailman/listinfo/hsdivision  HTTP/1.1       200   \n",
       "3                    /twiki/bin/view/TWiki/WikiSyntax  HTTP/1.1       200   \n",
       "4   /twiki/bin/edit/Main/Double_bounce_sender?topi...  HTTP/1.1       401   \n",
       "5   /twiki/bin/rdiff/TWiki/NewUserTemplate?rev1=1....  HTTP/1.1       200   \n",
       "6                        /mailman/listinfo/hsdivision  HTTP/1.1       200   \n",
       "7                    /twiki/bin/view/TWiki/WikiSyntax  HTTP/1.1       200   \n",
       "8   /twiki/bin/edit/Main/Double_bounce_sender?topi...  HTTP/1.1       401   \n",
       "9   /twiki/bin/rdiff/TWiki/NewUserTemplate?rev1=1....  HTTP/1.1       200   \n",
       "10                       /mailman/listinfo/hsdivision  HTTP/1.1       200   \n",
       "11                   /twiki/bin/view/TWiki/WikiSyntax  HTTP/1.1       200   \n",
       "\n",
       "     size    unixtime  \n",
       "0   12846  1078704349  \n",
       "1    4523  1078704411  \n",
       "2    6291  1078704602  \n",
       "3    7352  1078704718  \n",
       "4   12846  1078700749  \n",
       "5    4523  1078700811  \n",
       "6    6291  1078701642  \n",
       "7    7352  1078702318  \n",
       "8   12846  1078704349  \n",
       "9    4523  1078707716  \n",
       "10   6291  1078711802  \n",
       "11   7352  1078715578  "
      ]
     },
     "execution_count": 19,
     "metadata": {},
     "output_type": "execute_result"
    }
   ],
   "source": [
    "weblogs_unixtime_df = weblogs_df.withColumn(\"unixtime\", \\\n",
    "                       f.unix_timestamp(\"time\",\"dd/MMM/yyyy:HH:mm:ss Z\"))   \n",
    "                                       \n",
    "                          \n",
    "weblogs_unixtime_df.limit(30).toPandas()    "
   ]
  },
  {
   "cell_type": "code",
   "execution_count": 20,
   "metadata": {},
   "outputs": [
    {
     "data": {
      "text/html": [
       "<div>\n",
       "<table border=\"1\" class=\"dataframe\">\n",
       "  <thead>\n",
       "    <tr style=\"text-align: right;\">\n",
       "      <th></th>\n",
       "      <th>ip</th>\n",
       "      <th>begin</th>\n",
       "      <th>end</th>\n",
       "    </tr>\n",
       "  </thead>\n",
       "  <tbody>\n",
       "    <tr>\n",
       "      <th>0</th>\n",
       "      <td>68.240.88.10</td>\n",
       "      <td>1078704349</td>\n",
       "      <td>1078715578</td>\n",
       "    </tr>\n",
       "    <tr>\n",
       "      <th>1</th>\n",
       "      <td>64.240.88.10</td>\n",
       "      <td>1078700749</td>\n",
       "      <td>1078702318</td>\n",
       "    </tr>\n",
       "    <tr>\n",
       "      <th>2</th>\n",
       "      <td>64.242.88.10</td>\n",
       "      <td>1078704349</td>\n",
       "      <td>1078704718</td>\n",
       "    </tr>\n",
       "  </tbody>\n",
       "</table>\n",
       "</div>"
      ],
      "text/plain": [
       "             ip       begin         end\n",
       "0  68.240.88.10  1078704349  1078715578\n",
       "1  64.240.88.10  1078700749  1078702318\n",
       "2  64.242.88.10  1078704349  1078704718"
      ]
     },
     "execution_count": 20,
     "metadata": {},
     "output_type": "execute_result"
    }
   ],
   "source": [
    "weblogs_unixtime_df.groupby(\"ip\")\\\n",
    "         .agg(f.min(\"unixtime\").alias(\"begin\"),\n",
    "              f.max(\"unixtime\").alias(\"end\"))\\\n",
    "         .limit(30).toPandas()"
   ]
  },
  {
   "cell_type": "code",
   "execution_count": 21,
   "metadata": {},
   "outputs": [
    {
     "data": {
      "text/html": [
       "<div>\n",
       "<table border=\"1\" class=\"dataframe\">\n",
       "  <thead>\n",
       "    <tr style=\"text-align: right;\">\n",
       "      <th></th>\n",
       "      <th>ip</th>\n",
       "      <th>(end - begin)</th>\n",
       "    </tr>\n",
       "  </thead>\n",
       "  <tbody>\n",
       "    <tr>\n",
       "      <th>0</th>\n",
       "      <td>68.240.88.10</td>\n",
       "      <td>11229</td>\n",
       "    </tr>\n",
       "    <tr>\n",
       "      <th>1</th>\n",
       "      <td>64.240.88.10</td>\n",
       "      <td>1569</td>\n",
       "    </tr>\n",
       "    <tr>\n",
       "      <th>2</th>\n",
       "      <td>64.242.88.10</td>\n",
       "      <td>369</td>\n",
       "    </tr>\n",
       "  </tbody>\n",
       "</table>\n",
       "</div>"
      ],
      "text/plain": [
       "             ip  (end - begin)\n",
       "0  68.240.88.10          11229\n",
       "1  64.240.88.10           1569\n",
       "2  64.242.88.10            369"
      ]
     },
     "execution_count": 21,
     "metadata": {},
     "output_type": "execute_result"
    }
   ],
   "source": [
    "weblogs_unixtime_df.groupby(\"ip\")\\\n",
    "         .agg(f.min(\"unixtime\").alias(\"begin\"),\n",
    "              f.max(\"unixtime\").alias(\"end\"))\\\n",
    "         .select(\"ip\", (f.col(\"end\") - f.col(\"begin\")))\\\n",
    "         .limit(30).toPandas()"
   ]
  },
  {
   "cell_type": "code",
   "execution_count": null,
   "metadata": {},
   "outputs": [],
   "source": []
  },
  {
   "cell_type": "code",
   "execution_count": null,
   "metadata": {},
   "outputs": [],
   "source": []
  }
 ],
 "metadata": {
  "kernelspec": {
   "display_name": "Python 3",
   "language": "python",
   "name": "python3"
  },
  "language_info": {
   "codemirror_mode": {
    "name": "ipython",
    "version": 3
   },
   "file_extension": ".py",
   "mimetype": "text/x-python",
   "name": "python",
   "nbconvert_exporter": "python",
   "pygments_lexer": "ipython3",
   "version": "3.6.5"
  }
 },
 "nbformat": 4,
 "nbformat_minor": 2
}
